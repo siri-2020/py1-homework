{
 "cells": [
  {
   "cell_type": "code",
   "execution_count": null,
   "id": "78ff59d0",
   "metadata": {},
   "outputs": [
    {
     "name": "stdout",
     "output_type": "stream",
     "text": [
      "<class 'float'>\n",
      "False\n",
      "True\n",
      "True\n"
     ]
    }
   ],
   "source": [
    "print(type(0.0))\n",
    "print(isinstance(-0,str))\n",
    "print(isinstance(False,int))\n",
    "print(isinstance(False,bool))\n",
    "\n",
    "# False=0, True=1 so they are both integer and boolean\n",
    "# But boolean is a superclass of integer"
   ]
  },
  {
   "cell_type": "code",
   "execution_count": null,
   "id": "978ef859",
   "metadata": {},
   "outputs": [
    {
     "name": "stdout",
     "output_type": "stream",
     "text": [
      "\n",
      "This is a multi-line string.\n",
      "It can span multiple lines.\n",
      "You can include line breaks and indentation.\n",
      "\n"
     ]
    },
    {
     "data": {
      "text/plain": [
       "'4'"
      ]
     },
     "execution_count": 6,
     "metadata": {},
     "output_type": "execute_result"
    }
   ],
   "source": [
    "s = \"\"\"\n",
    "This is a multi-line string.\n",
    "It can span multiple lines.\n",
    "You can include line breaks and indentation.\n",
    "\"\"\"\n",
    "\n",
    "print(s)\n",
    "\n",
    "str(4)"
   ]
  },
  {
   "cell_type": "code",
   "execution_count": 13,
   "id": "d2869506",
   "metadata": {},
   "outputs": [
    {
     "name": "stdout",
     "output_type": "stream",
     "text": [
      "True\n",
      "False\n",
      "True\n",
      "True\n",
      "True\n",
      "True\n",
      "False\n",
      "True\n",
      "True\n",
      "False\n"
     ]
    }
   ],
   "source": [
    "print(bool(True))\n",
    "print(bool(0))\n",
    "print(bool(2))\n",
    "print(bool(0.5))\n",
    "print(bool(print))\n",
    "print(bool(\"0\"))\n",
    "print(bool(\"\"))\n",
    "print(bool(\" \"))\n",
    "print(bool(\"-0.0\"))\n",
    "print(bool(None))\n",
    "\n",
    "# false when num= 0, str=\"\", None, False"
   ]
  },
  {
   "cell_type": "markdown",
   "id": "c7b604e4",
   "metadata": {},
   "source": [
    "Variables"
   ]
  },
  {
   "cell_type": "code",
   "execution_count": null,
   "id": "8eb79fb2",
   "metadata": {},
   "outputs": [
    {
     "name": "stdout",
     "output_type": "stream",
     "text": [
      "My name is Tanya and I am 22 years old.\n"
     ]
    }
   ],
   "source": [
    "x = 1\n",
    "s = \"hello\"\n",
    "\n",
    "# only allowed variable names: i in for loops\n",
    "# other variable x y z a b c is prohibited\n",
    "\n",
    "age = 22\n",
    "name = \"Tanya\"\n",
    "print(\"My name is\", name, \"and I am\", age, \"years old.\")\n",
    "\n",
    "# how to name variables:\n",
    "# example founded year for utcc admission deoartment = 1980\n",
    "\n",
    "# [1] snake case\n",
    "'''always use this in Python1'''\n",
    "founded_year_utcc_admission_department=1980\n",
    "# [2] camel case **first letter lowercase**\n",
    "'''only in java script'''\n",
    "foundedYearUtccAdmissionDepartment=1980\n",
    "# [3] pascal case **first letter uppercase**\n",
    "'''use this in Python2 function name'''\n",
    "FoundedYearUtccAdmissionDepartment=1980\n",
    "\n"
   ]
  },
  {
   "cell_type": "code",
   "execution_count": 30,
   "id": "4378f342",
   "metadata": {},
   "outputs": [
    {
     "name": "stdout",
     "output_type": "stream",
     "text": [
      "I love long long long stringsthat span multiple lines.but still result in a single line.\n"
     ]
    }
   ],
   "source": [
    "PEP8 = \"Python Enhancement Proposal\"\n",
    "# guidelines for writing python code\n",
    "# https://peps.python.org/pep-0008/\n",
    "# use snake case for variable and function names\n",
    "# use pascal case for class names\n",
    "# use 4 spaces for indentation\n",
    "# limit lines to 79 characters -- 99 for docstrings and comments\n",
    "# use blank lines to separate functions and classes\n",
    "# use spaces around operators and after commas\n",
    "# avoid extraneous whitespace in parentheses, brackets, and braces\n",
    "# use docstrings to describe all public modules, functions, classes, and methods\n",
    "# name your classes and functions consistently\n",
    "# use comments sparingly and only when necessary\n",
    "# write code that is easy to read and understand\n",
    "# avoid using single character variable names except for counters or iterators\n",
    "# avoid using global variables\n",
    "# write tests for your code\n",
    "\n",
    "print(\"I love long long long strings\\\n",
    "that span multiple lines.\\\n",
    "but still result in a single line.\")\n"
   ]
  },
  {
   "cell_type": "code",
   "execution_count": null,
   "id": "4a311fb0",
   "metadata": {},
   "outputs": [],
   "source": [
    "name = \"\"\n",
    "Name = \"\" #okay but not good\n",
    "x=2 # okay but not good\n",
    "# 1bangkok=\"\" < invalid\n",
    "# _1bangkok=\"\" < valid but not good\n",
    "\n",
    "# reserved words should not be used as variable names\n",
    "# False=\"\"\n",
    "# int=\"\"\n",
    "# and\n",
    "# or\n",
    "# print\n",
    "# if\n",
    "# break\n",
    "# class\n",
    "# del\n",
    "# else\n",
    "\n",
    "'''\n",
    "the more reserved words in programming language, is easier to learn but it run program slower\n",
    "'''"
   ]
  },
  {
   "cell_type": "markdown",
   "id": "2247473c",
   "metadata": {},
   "source": [
    "Input"
   ]
  },
  {
   "cell_type": "code",
   "execution_count": null,
   "id": "8e4b093d",
   "metadata": {},
   "outputs": [],
   "source": [
    "age = int(input())\n",
    "print(age + 1)"
   ]
  }
 ],
 "metadata": {
  "kernelspec": {
   "display_name": "Python 3",
   "language": "python",
   "name": "python3"
  },
  "language_info": {
   "codemirror_mode": {
    "name": "ipython",
    "version": 3
   },
   "file_extension": ".py",
   "mimetype": "text/x-python",
   "name": "python",
   "nbconvert_exporter": "python",
   "pygments_lexer": "ipython3",
   "version": "3.12.4"
  }
 },
 "nbformat": 4,
 "nbformat_minor": 5
}
