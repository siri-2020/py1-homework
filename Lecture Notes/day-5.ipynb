{
 "cells": [
  {
   "cell_type": "markdown",
   "id": "a8fb2762",
   "metadata": {},
   "source": [
    "In-class Task"
   ]
  },
  {
   "cell_type": "code",
   "execution_count": null,
   "id": "151957b3",
   "metadata": {},
   "outputs": [],
   "source": [
    "number = int(input())\n",
    "\n",
    "if number % 2 == 0:\n",
    "    print(\"A\")\n",
    "    if number % 3 == 0:\n",
    "        print(\"C\")\n",
    "    else:\n",
    "        print(\"B\")\n",
    "else:\n",
    "    print(\"D\")"
   ]
  }
 ],
 "metadata": {
  "kernelspec": {
   "display_name": "Python 3",
   "language": "python",
   "name": "python3"
  },
  "language_info": {
   "name": "python",
   "version": "3.13.7"
  }
 },
 "nbformat": 4,
 "nbformat_minor": 5
}
