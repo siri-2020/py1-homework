{
 "cells": [
  {
   "cell_type": "markdown",
   "id": "a8fb2762",
   "metadata": {},
   "source": [
    "In-class Task"
   ]
  },
  {
   "cell_type": "code",
   "execution_count": null,
   "id": "151957b3",
   "metadata": {},
   "outputs": [],
   "source": [
    "number = int(input())\n",
    "\n",
    "if number % 2 == 0:\n",
    "    print(\"A\")\n",
    "    if number % 3 == 0:\n",
    "        print(\"C\")\n",
    "    else:\n",
    "        print(\"B\")\n",
    "else:\n",
    "    print(\"D\")"
   ]
  },
  {
   "cell_type": "markdown",
   "id": "d469e366",
   "metadata": {},
   "source": [
    "Loop"
   ]
  },
  {
   "cell_type": "code",
   "execution_count": null,
   "id": "ff8d212e",
   "metadata": {},
   "outputs": [
    {
     "name": "stdout",
     "output_type": "stream",
     "text": [
      "2\n",
      "4\n",
      "6\n",
      "8\n",
      "10\n",
      "12\n",
      "14\n",
      "16\n",
      "18\n",
      "20\n",
      "Hello World\n",
      "Hello World\n",
      "Hello World\n",
      "Hello World\n",
      "Hello World\n"
     ]
    }
   ],
   "source": [
    "'''\n",
    "For loop\n",
    "While loop\n",
    "# other languages have dowhile loop, for in, for of, foreach loops\n",
    "'''\n",
    "\n",
    "\n",
    "# while loop when you don't know how many times to repeat\n",
    "'''\n",
    "while condition is True:\n",
    "    ACTION\n",
    "'''\n",
    "n = 1\n",
    "while n <= 20:\n",
    "    if n % 2 == 0:\n",
    "        print(n)\n",
    "    n += 1\n",
    "\n",
    "#\n",
    "\n",
    "\n",
    "# for loop when you know how many times to repeat\n",
    "''' \n",
    "for index in iterable:\n",
    "    ACTION\n",
    "'''\n",
    "\n",
    "for i in range(5):  \n",
    "    print(\"Hello World\") "
   ]
  }
 ],
 "metadata": {
  "kernelspec": {
   "display_name": "Python 3",
   "language": "python",
   "name": "python3"
  },
  "language_info": {
   "codemirror_mode": {
    "name": "ipython",
    "version": 3
   },
   "file_extension": ".py",
   "mimetype": "text/x-python",
   "name": "python",
   "nbconvert_exporter": "python",
   "pygments_lexer": "ipython3",
   "version": "3.13.7"
  }
 },
 "nbformat": 4,
 "nbformat_minor": 5
}
