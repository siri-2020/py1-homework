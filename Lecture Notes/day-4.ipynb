{
 "cells": [
  {
   "cell_type": "markdown",
   "id": "638d2d70",
   "metadata": {},
   "source": [
    "Day 4"
   ]
  },
  {
   "cell_type": "code",
   "execution_count": null,
   "id": "4749f5e0",
   "metadata": {},
   "outputs": [],
   "source": [
    "SOME_CONSTANT = \"Vetit\"\n",
    "not_a_constant = \"Rujipas\""
   ]
  },
  {
   "cell_type": "markdown",
   "id": "f792a633",
   "metadata": {},
   "source": [
    "Math Functions"
   ]
  },
  {
   "cell_type": "code",
   "execution_count": 3,
   "id": "26db71cd",
   "metadata": {},
   "outputs": [
    {
     "data": {
      "text/plain": [
       "23"
      ]
     },
     "execution_count": 3,
     "metadata": {},
     "output_type": "execute_result"
    }
   ],
   "source": [
    "min(23, 5, -2, 0)\n",
    "max(23, 5, -2, 0)"
   ]
  },
  {
   "cell_type": "code",
   "execution_count": null,
   "id": "2b1fef3a",
   "metadata": {},
   "outputs": [
    {
     "data": {
      "text/plain": [
       "2"
      ]
     },
     "execution_count": 6,
     "metadata": {},
     "output_type": "execute_result"
    }
   ],
   "source": [
    "round(2.45)\n",
    "round(2.6), int(2.6)\n",
    "round(2.500000000000001)\n",
    "\n",
    "'''2.5 round to 2'''\n",
    "round(2.5)"
   ]
  },
  {
   "cell_type": "code",
   "execution_count": null,
   "id": "2191cc5d",
   "metadata": {},
   "outputs": [],
   "source": [
    "# 2.5 -> 2, 5.5 -> 6, 3.5 -> 3, 4.5 -> 5"
   ]
  },
  {
   "cell_type": "code",
   "execution_count": 14,
   "id": "0795c400",
   "metadata": {},
   "outputs": [
    {
     "data": {
      "text/plain": [
       "1000.0"
      ]
     },
     "execution_count": 14,
     "metadata": {},
     "output_type": "execute_result"
    }
   ],
   "source": [
    "round(2.455, 2)\n",
    "round(-1.2563, 3)\n",
    "round(986, -2)\n",
    "round(986, -1)\n",
    "round(986, 0)\n",
    "round(986.00000000, -5)\n",
    "round(986.00000000, -3)"
   ]
  },
  {
   "cell_type": "markdown",
   "id": "bfe381ad",
   "metadata": {},
   "source": [
    "Conditionals"
   ]
  },
  {
   "cell_type": "code",
   "execution_count": null,
   "id": "13152c38",
   "metadata": {},
   "outputs": [],
   "source": [
    "'''\n",
    "if PROPOSITION(S):\n",
    "    DO_SOMETHING\n",
    "'''"
   ]
  },
  {
   "cell_type": "code",
   "execution_count": 1,
   "id": "6ed94534",
   "metadata": {},
   "outputs": [
    {
     "name": "stdout",
     "output_type": "stream",
     "text": [
      "A\n",
      "C\n",
      "D\n"
     ]
    }
   ],
   "source": [
    "if 5 > 4:\n",
    "    print(\"A\")\n",
    "print(\"C\")\n",
    "if 6 < 3:\n",
    "    print(\"B\")\n",
    "print(\"D\")"
   ]
  },
  {
   "cell_type": "code",
   "execution_count": 6,
   "id": "fccb789c",
   "metadata": {},
   "outputs": [
    {
     "name": "stdout",
     "output_type": "stream",
     "text": [
      "Cheetah\n"
     ]
    }
   ],
   "source": [
    "x = 5\n",
    "if (not x > 6) or (x < \"Hello\"): #if the first condition is True, the second condition will not be checked\n",
    "    print(\"Cheetah\")\n",
    "if (x > 6) and (x < \"Hello\"): #if the first condition is False, the second condition will not be checked\n",
    "    print(\"Cheetah loves python\")"
   ]
  },
  {
   "cell_type": "code",
   "execution_count": null,
   "id": "90778a71",
   "metadata": {},
   "outputs": [
    {
     "name": "stdout",
     "output_type": "stream",
     "text": [
      "YES\n",
      "WOW\n"
     ]
    }
   ],
   "source": [
    "if 5 != 4 and 6 > 3:\n",
    "    if 5 < 4:\n",
    "        print(\"NO\") # not printed because 5 < 4 is False\n",
    "    print(\"YES\") # printed because the outer if condition is True\n",
    "print(\"WOW\") # always printed\n",
    "\n",
    "#called nested if statements"
   ]
  }
 ],
 "metadata": {
  "kernelspec": {
   "display_name": "Python 3",
   "language": "python",
   "name": "python3"
  },
  "language_info": {
   "codemirror_mode": {
    "name": "ipython",
    "version": 3
   },
   "file_extension": ".py",
   "mimetype": "text/x-python",
   "name": "python",
   "nbconvert_exporter": "python",
   "pygments_lexer": "ipython3",
   "version": "3.13.7"
  }
 },
 "nbformat": 4,
 "nbformat_minor": 5
}
