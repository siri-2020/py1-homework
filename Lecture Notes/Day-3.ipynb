{
 "cells": [
  {
   "cell_type": "markdown",
   "id": "5d57122a",
   "metadata": {},
   "source": [
    "Day 3"
   ]
  },
  {
   "cell_type": "code",
   "execution_count": null,
   "id": "b652541a",
   "metadata": {},
   "outputs": [
    {
     "name": "stdout",
     "output_type": "stream",
     "text": [
      "4\n"
     ]
    }
   ],
   "source": [
    "# int()\n",
    "a = int(4.0)\n",
    "a = int('4')\n",
    "\n",
    "# cannot convert float string directly to int\n",
    "# so we first convert to float\n",
    "a = int(float('4.0'))\n",
    "\n",
    "a = int(True)\n",
    "a = int(False)\n",
    "\n",
    "print(a)"
   ]
  },
  {
   "cell_type": "code",
   "execution_count": 5,
   "id": "639e0d96",
   "metadata": {},
   "outputs": [
    {
     "name": "stdout",
     "output_type": "stream",
     "text": [
      "0.0\n"
     ]
    }
   ],
   "source": [
    "# float()\n",
    "a = float(-2.5)\n",
    "a = float('3.9')\n",
    "a = float(True)\n",
    "a = float(False)\n",
    "\n",
    "'''a = float(\"False\")  # Error'''\n",
    "'''a = float(\"\") ## Error'''\n",
    "\n",
    "print(a)"
   ]
  },
  {
   "cell_type": "code",
   "execution_count": null,
   "id": "af6958bb",
   "metadata": {},
   "outputs": [
    {
     "name": "stdout",
     "output_type": "stream",
     "text": [
      "False\n"
     ]
    }
   ],
   "source": [
    "# bool()\n",
    "\n",
    "# 0 is considered False, all other numbers are considered True\n",
    "a = bool(0)\n",
    "a = bool(3)\n",
    "a = bool(-2)\n",
    "a = bool(0.0)\n",
    "a = bool(2.5)\n",
    "a = bool(-0.000000000)\n",
    "a = bool(0.000000000000000000000000000000000000000000000000000000000000000000000000001)\n",
    "\n",
    "# None and Empty string are considered False\n",
    "a = bool(None)\n",
    "a = bool(\"\")\n",
    "print(a)"
   ]
  },
  {
   "cell_type": "code",
   "execution_count": 15,
   "id": "45394b6f",
   "metadata": {},
   "outputs": [
    {
     "name": "stdout",
     "output_type": "stream",
     "text": [
      "-2.5\n",
      "<class 'str'>\n"
     ]
    },
    {
     "data": {
      "text/plain": [
       "(None, None)"
      ]
     },
     "execution_count": 15,
     "metadata": {},
     "output_type": "execute_result"
    }
   ],
   "source": [
    "# str()\n",
    "a = str(4)\n",
    "a = str(3.9)\n",
    "a = str(True)\n",
    "a = str(None)\n",
    "a = str(-2.5)\n",
    "print(a), print(type(a))"
   ]
  },
  {
   "cell_type": "code",
   "execution_count": null,
   "id": "7ca5776e",
   "metadata": {},
   "outputs": [
    {
     "name": "stdout",
     "output_type": "stream",
     "text": [
      "True <class 'bool'>\n"
     ]
    }
   ],
   "source": [
    "a = bool(str(float(-2))) # it convert \"-2.0\" to bool which is True\n",
    "print(a, type(a))"
   ]
  },
  {
   "cell_type": "code",
   "execution_count": null,
   "id": "1e2009d3",
   "metadata": {},
   "outputs": [],
   "source": [
    "#dynamic-typed programming language\n",
    "a = 4\n",
    "a = True"
   ]
  },
  {
   "cell_type": "markdown",
   "id": "dddd3825",
   "metadata": {},
   "source": [
    "Mathematical Operation"
   ]
  },
  {
   "cell_type": "markdown",
   "id": "ffc76e92",
   "metadata": {},
   "source": [
    "$+, -, \\times, \\div, modulo, power, \\sqrt{a}$"
   ]
  },
  {
   "cell_type": "code",
   "execution_count": 3,
   "id": "23d19fe9",
   "metadata": {},
   "outputs": [
    {
     "name": "stdout",
     "output_type": "stream",
     "text": [
      "36\n",
      "2.3333333333333335 2\n",
      "2.0\n",
      "2.3333333333333335\n",
      "0.30000000000000004\n"
     ]
    }
   ],
   "source": [
    "a = 2 + 6\n",
    "b = 7\n",
    "# sum\n",
    "a = sum([2, 6, 10, 4, 7])  # sum of iterable\n",
    "print(a + b)\n",
    "\n",
    "d = 6 * 7  # asterisk(ดอกจัน) for multiplication\n",
    "e = 7 / 3 # in division always return float bacause of precision\n",
    "f = 8 // 4  # floor division(ปัดเศษลง)\n",
    "''' round up use round() '''\n",
    "g = 2 ** 3 # exponentiation(ยกกำลัง)\n",
    "# square root use exponentiation with 0.5\n",
    "# third root use exponentiation with 1/3\n",
    "i = 8 ** (1/3)\n",
    "print(e, f)\n",
    "print(i)\n",
    "\n",
    "j = 7 % 3  # modulo(หารเอาเศษ)\n",
    "j = 32.0 % 4 # output is float\n",
    "j = 32.0 % -5.0 # edge case\n",
    "j = -12.5 % -1.15\n",
    "''' j = -12.5 % \"2\" ''' # Error\n",
    "j = 12 % True # True is 1\n",
    "''' j = 12 % False ''' # False is 0, Error division by zero\n",
    "j = 7/3\n",
    "print(j)\n",
    "print(0.1+0.2)"
   ]
  },
  {
   "cell_type": "code",
   "execution_count": null,
   "id": "b8b9d96f",
   "metadata": {},
   "outputs": [
    {
     "name": "stdout",
     "output_type": "stream",
     "text": [
      "1\n"
     ]
    }
   ],
   "source": [
    "a = 0 ** 0\n",
    "print(a)  # output is 1 because purely mathematical reason (controversial)"
   ]
  },
  {
   "cell_type": "code",
   "execution_count": null,
   "id": "0e86e5e2",
   "metadata": {},
   "outputs": [],
   "source": [
    "Order of Operations"
   ]
  },
  {
   "cell_type": "code",
   "execution_count": 35,
   "id": "bf6dadbf",
   "metadata": {},
   "outputs": [
    {
     "name": "stdout",
     "output_type": "stream",
     "text": [
      "2.0\n",
      "0.0\n",
      "-1.0\n"
     ]
    }
   ],
   "source": [
    "print(2 + 2 % 2 / 2) # follow order of operations\n",
    "print((2 + 2) % (2 / 2))\n",
    "\n",
    "a = 2 * 2 - 2 / 2 - 2 ** 2 # not preferred way\n",
    "a = (2 * 2) - (2 / 2) - (2 ** 2) # use this way\n",
    "a = 2*2 - 2/2 - 2**2 # 2nd way to make it clear\n",
    "print(a)"
   ]
  },
  {
   "cell_type": "code",
   "execution_count": null,
   "id": "b9315bfd",
   "metadata": {},
   "outputs": [
    {
     "name": "stdout",
     "output_type": "stream",
     "text": [
      "0.4\n",
      "0.30000000000000004\n"
     ]
    }
   ],
   "source": [
    "print(0.2+0.2)\n",
    "print(0.1+0.2)\n",
    "# floating point precision issue \n",
    "# because of binary representation that cannot exactly represent some decimal fractions\n",
    "# others cases are due to arithmetic operations"
   ]
  },
  {
   "cell_type": "code",
   "execution_count": null,
   "id": "90a0f608",
   "metadata": {},
   "outputs": [],
   "source": []
  },
  {
   "cell_type": "markdown",
   "id": "b2860ee5",
   "metadata": {},
   "source": [
    "Variable Adjustment"
   ]
  },
  {
   "cell_type": "code",
   "execution_count": null,
   "id": "63d55c4e",
   "metadata": {},
   "outputs": [
    {
     "name": "stdout",
     "output_type": "stream",
     "text": [
      "1 1.5\n"
     ]
    }
   ],
   "source": [
    "a = 5 + 4\n",
    "b = 3 * 2\n",
    "a = a + 1\n",
    "a = a // 2\n",
    "a = b // a\n",
    "print(a, 6/(9//2))"
   ]
  },
  {
   "cell_type": "code",
   "execution_count": null,
   "id": "1c657212",
   "metadata": {},
   "outputs": [],
   "source": [
    "a = a + 1\n",
    "a += 1  # equivalent to a = a + 1\n",
    "a -= 2  # equivalent to a = a - 2\n",
    "\n",
    "a = a * 1\n",
    "a *= 1\n",
    "\n",
    "a = a / 5\n",
    "a /= 5\n",
    "\n",
    "a = a // 2\n",
    "a //= 2\n",
    "\n",
    "a = a ** 2\n",
    "a **= 2\n",
    "\n",
    "a = a % 3\n",
    "a %= 3"
   ]
  },
  {
   "cell_type": "markdown",
   "id": "bbfd2da9",
   "metadata": {},
   "source": [
    "Logical Operations"
   ]
  },
  {
   "cell_type": "code",
   "execution_count": 43,
   "id": "72d47210",
   "metadata": {},
   "outputs": [
    {
     "data": {
      "text/plain": [
       "True"
      ]
     },
     "execution_count": 43,
     "metadata": {},
     "output_type": "execute_result"
    }
   ],
   "source": [
    "'''\n",
    "and และ\n",
    "or หรือ\n",
    "proposition ประพจน์\n",
    "'''\n",
    "\n",
    "2 > 3 # False\n",
    "a = 5\n",
    "a < 7 # True\n",
    "2 >= 2 # True\n",
    "\n",
    "2 == 4 # use double equal sign for comparison # False\n",
    "3 != 5 # not equal # True"
   ]
  },
  {
   "cell_type": "code",
   "execution_count": null,
   "id": "9540cae4",
   "metadata": {},
   "outputs": [
    {
     "name": "stdout",
     "output_type": "stream",
     "text": [
      "False\n"
     ]
    }
   ],
   "source": [
    "print(4 > 3 > 3 > 1)\n",
    "# meaning (4 > 3) and (3 > 3) and (3 > 1)"
   ]
  },
  {
   "cell_type": "code",
   "execution_count": null,
   "id": "d7e6f767",
   "metadata": {},
   "outputs": [
    {
     "name": "stdout",
     "output_type": "stream",
     "text": [
      "False\n",
      "False\n",
      "0\n",
      "0\n",
      "3\n"
     ]
    },
    {
     "data": {
      "text/plain": [
       "' This is call short-circuit evaluation (Like in JavaScript) will stop at first False in and operation\\n'"
      ]
     },
     "execution_count": 5,
     "metadata": {},
     "output_type": "execute_result"
    }
   ],
   "source": [
    "# and, or, not\n",
    "print(not True) # False\n",
    "print((not 1 )> 2) # because not 1 is False, False = 0, 0 > 2 is False\n",
    "\n",
    "True and True  # True\n",
    "2 > 1 and 3 > 2  # True\n",
    "\n",
    "a = 0\n",
    "b = 1\n",
    "print((a != b-1) or a) # 0\n",
    "# because (a != b-1) is False, a is 0 (False), so False or False is False\n",
    "True or 0  # True\n",
    "True and 0  # False\n",
    "0 or 0  # 0\n",
    "0 or 1 # 1\n",
    "True and 1 # 1\n",
    "1 and True # True\n",
    "5 or True # 5\n",
    "False and 7 # False\n",
    "False or 7 # 7\n",
    "False or 0 # 0\n",
    "0 or False # False\n",
    "# because in and operation, if both sides are True, return the right side\n",
    "# in or operation, if one side is True, return the right side\n",
    "# otherwise return the left side\n",
    "\n",
    "'''\n",
    "the result is the first True or the last\n",
    "'''\n",
    "\n",
    "print(True and 1 and 0 and 5) # 0 because it stops at 0\n",
    "print(False or 0 or 3 or 5) # 3 because it stops at 3\n",
    "\n",
    "'''\n",
    "This is call short-circuit evaluation (Like in JavaScript)\n",
    "will stop at first False in and operation\n",
    "'''"
   ]
  }
 ],
 "metadata": {
  "kernelspec": {
   "display_name": "Python 3",
   "language": "python",
   "name": "python3"
  },
  "language_info": {
   "codemirror_mode": {
    "name": "ipython",
    "version": 3
   },
   "file_extension": ".py",
   "mimetype": "text/x-python",
   "name": "python",
   "nbconvert_exporter": "python",
   "pygments_lexer": "ipython3",
   "version": "3.13.7"
  }
 },
 "nbformat": 4,
 "nbformat_minor": 5
}
